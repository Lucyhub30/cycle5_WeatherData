{
 "cells": [
  {
   "cell_type": "code",
   "execution_count": 186,
   "metadata": {},
   "outputs": [],
   "source": [
    "import pandas as pd\n",
    "import matplotlib.pyplot as plt"
   ]
  },
  {
   "cell_type": "code",
   "execution_count": 187,
   "metadata": {},
   "outputs": [],
   "source": [
    "weather = pd.read_csv(\"weatherData.csv\", index_col=\"DATE\")"
   ]
  },
  {
   "cell_type": "code",
   "execution_count": 188,
   "metadata": {},
   "outputs": [
    {
     "data": {
      "text/html": [
       "<div>\n",
       "<style scoped>\n",
       "    .dataframe tbody tr th:only-of-type {\n",
       "        vertical-align: middle;\n",
       "    }\n",
       "\n",
       "    .dataframe tbody tr th {\n",
       "        vertical-align: top;\n",
       "    }\n",
       "\n",
       "    .dataframe thead th {\n",
       "        text-align: right;\n",
       "    }\n",
       "</style>\n",
       "<table border=\"1\" class=\"dataframe\">\n",
       "  <thead>\n",
       "    <tr style=\"text-align: right;\">\n",
       "      <th></th>\n",
       "      <th>STATION</th>\n",
       "      <th>NAME</th>\n",
       "      <th>PRCP</th>\n",
       "      <th>SNOW</th>\n",
       "      <th>SNWD</th>\n",
       "      <th>TAVG</th>\n",
       "      <th>TMAX</th>\n",
       "      <th>TMIN</th>\n",
       "      <th>WESD</th>\n",
       "      <th>WT01</th>\n",
       "      <th>WT03</th>\n",
       "      <th>WT04</th>\n",
       "      <th>WT05</th>\n",
       "      <th>WT06</th>\n",
       "      <th>WT08</th>\n",
       "      <th>WT09</th>\n",
       "      <th>WT16</th>\n",
       "      <th>WT18</th>\n",
       "    </tr>\n",
       "    <tr>\n",
       "      <th>DATE</th>\n",
       "      <th></th>\n",
       "      <th></th>\n",
       "      <th></th>\n",
       "      <th></th>\n",
       "      <th></th>\n",
       "      <th></th>\n",
       "      <th></th>\n",
       "      <th></th>\n",
       "      <th></th>\n",
       "      <th></th>\n",
       "      <th></th>\n",
       "      <th></th>\n",
       "      <th></th>\n",
       "      <th></th>\n",
       "      <th></th>\n",
       "      <th></th>\n",
       "      <th></th>\n",
       "      <th></th>\n",
       "    </tr>\n",
       "  </thead>\n",
       "  <tbody>\n",
       "    <tr>\n",
       "      <th>1960-01-01</th>\n",
       "      <td>UKE00105915</td>\n",
       "      <td>HAMPSTEAD, UK</td>\n",
       "      <td>0.10</td>\n",
       "      <td>NaN</td>\n",
       "      <td>NaN</td>\n",
       "      <td>NaN</td>\n",
       "      <td>46.0</td>\n",
       "      <td>48.0</td>\n",
       "      <td>NaN</td>\n",
       "      <td>NaN</td>\n",
       "      <td>NaN</td>\n",
       "      <td>NaN</td>\n",
       "      <td>NaN</td>\n",
       "      <td>NaN</td>\n",
       "      <td>NaN</td>\n",
       "      <td>NaN</td>\n",
       "      <td>NaN</td>\n",
       "      <td>NaN</td>\n",
       "    </tr>\n",
       "    <tr>\n",
       "      <th>1960-01-02</th>\n",
       "      <td>UKE00105915</td>\n",
       "      <td>HAMPSTEAD, UK</td>\n",
       "      <td>0.06</td>\n",
       "      <td>NaN</td>\n",
       "      <td>NaN</td>\n",
       "      <td>NaN</td>\n",
       "      <td>51.0</td>\n",
       "      <td>41.0</td>\n",
       "      <td>NaN</td>\n",
       "      <td>NaN</td>\n",
       "      <td>NaN</td>\n",
       "      <td>NaN</td>\n",
       "      <td>NaN</td>\n",
       "      <td>NaN</td>\n",
       "      <td>NaN</td>\n",
       "      <td>NaN</td>\n",
       "      <td>NaN</td>\n",
       "      <td>NaN</td>\n",
       "    </tr>\n",
       "    <tr>\n",
       "      <th>1960-01-03</th>\n",
       "      <td>UKE00105915</td>\n",
       "      <td>HAMPSTEAD, UK</td>\n",
       "      <td>0.04</td>\n",
       "      <td>NaN</td>\n",
       "      <td>NaN</td>\n",
       "      <td>NaN</td>\n",
       "      <td>53.0</td>\n",
       "      <td>41.0</td>\n",
       "      <td>NaN</td>\n",
       "      <td>NaN</td>\n",
       "      <td>NaN</td>\n",
       "      <td>NaN</td>\n",
       "      <td>NaN</td>\n",
       "      <td>NaN</td>\n",
       "      <td>NaN</td>\n",
       "      <td>NaN</td>\n",
       "      <td>NaN</td>\n",
       "      <td>NaN</td>\n",
       "    </tr>\n",
       "    <tr>\n",
       "      <th>1960-01-04</th>\n",
       "      <td>UKE00105915</td>\n",
       "      <td>HAMPSTEAD, UK</td>\n",
       "      <td>0.03</td>\n",
       "      <td>NaN</td>\n",
       "      <td>NaN</td>\n",
       "      <td>NaN</td>\n",
       "      <td>46.0</td>\n",
       "      <td>42.0</td>\n",
       "      <td>NaN</td>\n",
       "      <td>NaN</td>\n",
       "      <td>NaN</td>\n",
       "      <td>NaN</td>\n",
       "      <td>NaN</td>\n",
       "      <td>NaN</td>\n",
       "      <td>NaN</td>\n",
       "      <td>NaN</td>\n",
       "      <td>NaN</td>\n",
       "      <td>NaN</td>\n",
       "    </tr>\n",
       "    <tr>\n",
       "      <th>1960-01-05</th>\n",
       "      <td>UKE00105915</td>\n",
       "      <td>HAMPSTEAD, UK</td>\n",
       "      <td>0.00</td>\n",
       "      <td>NaN</td>\n",
       "      <td>NaN</td>\n",
       "      <td>NaN</td>\n",
       "      <td>45.0</td>\n",
       "      <td>45.0</td>\n",
       "      <td>NaN</td>\n",
       "      <td>NaN</td>\n",
       "      <td>NaN</td>\n",
       "      <td>NaN</td>\n",
       "      <td>NaN</td>\n",
       "      <td>NaN</td>\n",
       "      <td>NaN</td>\n",
       "      <td>NaN</td>\n",
       "      <td>NaN</td>\n",
       "      <td>NaN</td>\n",
       "    </tr>\n",
       "    <tr>\n",
       "      <th>...</th>\n",
       "      <td>...</td>\n",
       "      <td>...</td>\n",
       "      <td>...</td>\n",
       "      <td>...</td>\n",
       "      <td>...</td>\n",
       "      <td>...</td>\n",
       "      <td>...</td>\n",
       "      <td>...</td>\n",
       "      <td>...</td>\n",
       "      <td>...</td>\n",
       "      <td>...</td>\n",
       "      <td>...</td>\n",
       "      <td>...</td>\n",
       "      <td>...</td>\n",
       "      <td>...</td>\n",
       "      <td>...</td>\n",
       "      <td>...</td>\n",
       "      <td>...</td>\n",
       "    </tr>\n",
       "    <tr>\n",
       "      <th>1964-06-25</th>\n",
       "      <td>UKW00035054</td>\n",
       "      <td>WEST MALLING, ENG UK</td>\n",
       "      <td>0.00</td>\n",
       "      <td>0.0</td>\n",
       "      <td>0.0</td>\n",
       "      <td>NaN</td>\n",
       "      <td>71.0</td>\n",
       "      <td>49.0</td>\n",
       "      <td>NaN</td>\n",
       "      <td>1.0</td>\n",
       "      <td>NaN</td>\n",
       "      <td>NaN</td>\n",
       "      <td>NaN</td>\n",
       "      <td>NaN</td>\n",
       "      <td>1.0</td>\n",
       "      <td>NaN</td>\n",
       "      <td>NaN</td>\n",
       "      <td>NaN</td>\n",
       "    </tr>\n",
       "    <tr>\n",
       "      <th>1964-06-26</th>\n",
       "      <td>UKW00035054</td>\n",
       "      <td>WEST MALLING, ENG UK</td>\n",
       "      <td>0.00</td>\n",
       "      <td>0.0</td>\n",
       "      <td>0.0</td>\n",
       "      <td>NaN</td>\n",
       "      <td>72.0</td>\n",
       "      <td>51.0</td>\n",
       "      <td>NaN</td>\n",
       "      <td>1.0</td>\n",
       "      <td>NaN</td>\n",
       "      <td>NaN</td>\n",
       "      <td>NaN</td>\n",
       "      <td>NaN</td>\n",
       "      <td>1.0</td>\n",
       "      <td>NaN</td>\n",
       "      <td>NaN</td>\n",
       "      <td>NaN</td>\n",
       "    </tr>\n",
       "    <tr>\n",
       "      <th>1964-06-27</th>\n",
       "      <td>UKW00035054</td>\n",
       "      <td>WEST MALLING, ENG UK</td>\n",
       "      <td>0.00</td>\n",
       "      <td>0.0</td>\n",
       "      <td>0.0</td>\n",
       "      <td>NaN</td>\n",
       "      <td>77.0</td>\n",
       "      <td>50.0</td>\n",
       "      <td>NaN</td>\n",
       "      <td>NaN</td>\n",
       "      <td>NaN</td>\n",
       "      <td>NaN</td>\n",
       "      <td>NaN</td>\n",
       "      <td>NaN</td>\n",
       "      <td>1.0</td>\n",
       "      <td>NaN</td>\n",
       "      <td>NaN</td>\n",
       "      <td>NaN</td>\n",
       "    </tr>\n",
       "    <tr>\n",
       "      <th>1964-06-28</th>\n",
       "      <td>UKW00035054</td>\n",
       "      <td>WEST MALLING, ENG UK</td>\n",
       "      <td>0.00</td>\n",
       "      <td>0.0</td>\n",
       "      <td>0.0</td>\n",
       "      <td>NaN</td>\n",
       "      <td>72.0</td>\n",
       "      <td>60.0</td>\n",
       "      <td>NaN</td>\n",
       "      <td>NaN</td>\n",
       "      <td>NaN</td>\n",
       "      <td>NaN</td>\n",
       "      <td>NaN</td>\n",
       "      <td>NaN</td>\n",
       "      <td>1.0</td>\n",
       "      <td>NaN</td>\n",
       "      <td>1.0</td>\n",
       "      <td>NaN</td>\n",
       "    </tr>\n",
       "    <tr>\n",
       "      <th>1964-06-29</th>\n",
       "      <td>UKW00035054</td>\n",
       "      <td>WEST MALLING, ENG UK</td>\n",
       "      <td>0.00</td>\n",
       "      <td>0.0</td>\n",
       "      <td>0.0</td>\n",
       "      <td>NaN</td>\n",
       "      <td>67.0</td>\n",
       "      <td>50.0</td>\n",
       "      <td>NaN</td>\n",
       "      <td>1.0</td>\n",
       "      <td>NaN</td>\n",
       "      <td>NaN</td>\n",
       "      <td>NaN</td>\n",
       "      <td>NaN</td>\n",
       "      <td>NaN</td>\n",
       "      <td>NaN</td>\n",
       "      <td>1.0</td>\n",
       "      <td>NaN</td>\n",
       "    </tr>\n",
       "  </tbody>\n",
       "</table>\n",
       "<p>86186 rows × 18 columns</p>\n",
       "</div>"
      ],
      "text/plain": [
       "                STATION                  NAME  PRCP  SNOW  SNWD  TAVG  TMAX  \\\n",
       "DATE                                                                          \n",
       "1960-01-01  UKE00105915         HAMPSTEAD, UK  0.10   NaN   NaN   NaN  46.0   \n",
       "1960-01-02  UKE00105915         HAMPSTEAD, UK  0.06   NaN   NaN   NaN  51.0   \n",
       "1960-01-03  UKE00105915         HAMPSTEAD, UK  0.04   NaN   NaN   NaN  53.0   \n",
       "1960-01-04  UKE00105915         HAMPSTEAD, UK  0.03   NaN   NaN   NaN  46.0   \n",
       "1960-01-05  UKE00105915         HAMPSTEAD, UK  0.00   NaN   NaN   NaN  45.0   \n",
       "...                 ...                   ...   ...   ...   ...   ...   ...   \n",
       "1964-06-25  UKW00035054  WEST MALLING, ENG UK  0.00   0.0   0.0   NaN  71.0   \n",
       "1964-06-26  UKW00035054  WEST MALLING, ENG UK  0.00   0.0   0.0   NaN  72.0   \n",
       "1964-06-27  UKW00035054  WEST MALLING, ENG UK  0.00   0.0   0.0   NaN  77.0   \n",
       "1964-06-28  UKW00035054  WEST MALLING, ENG UK  0.00   0.0   0.0   NaN  72.0   \n",
       "1964-06-29  UKW00035054  WEST MALLING, ENG UK  0.00   0.0   0.0   NaN  67.0   \n",
       "\n",
       "            TMIN  WESD  WT01  WT03  WT04  WT05  WT06  WT08  WT09  WT16  WT18  \n",
       "DATE                                                                          \n",
       "1960-01-01  48.0   NaN   NaN   NaN   NaN   NaN   NaN   NaN   NaN   NaN   NaN  \n",
       "1960-01-02  41.0   NaN   NaN   NaN   NaN   NaN   NaN   NaN   NaN   NaN   NaN  \n",
       "1960-01-03  41.0   NaN   NaN   NaN   NaN   NaN   NaN   NaN   NaN   NaN   NaN  \n",
       "1960-01-04  42.0   NaN   NaN   NaN   NaN   NaN   NaN   NaN   NaN   NaN   NaN  \n",
       "1960-01-05  45.0   NaN   NaN   NaN   NaN   NaN   NaN   NaN   NaN   NaN   NaN  \n",
       "...          ...   ...   ...   ...   ...   ...   ...   ...   ...   ...   ...  \n",
       "1964-06-25  49.0   NaN   1.0   NaN   NaN   NaN   NaN   1.0   NaN   NaN   NaN  \n",
       "1964-06-26  51.0   NaN   1.0   NaN   NaN   NaN   NaN   1.0   NaN   NaN   NaN  \n",
       "1964-06-27  50.0   NaN   NaN   NaN   NaN   NaN   NaN   1.0   NaN   NaN   NaN  \n",
       "1964-06-28  60.0   NaN   NaN   NaN   NaN   NaN   NaN   1.0   NaN   1.0   NaN  \n",
       "1964-06-29  50.0   NaN   1.0   NaN   NaN   NaN   NaN   NaN   NaN   1.0   NaN  \n",
       "\n",
       "[86186 rows x 18 columns]"
      ]
     },
     "execution_count": 188,
     "metadata": {},
     "output_type": "execute_result"
    }
   ],
   "source": [
    "weather"
   ]
  },
  {
   "cell_type": "code",
   "execution_count": 189,
   "metadata": {},
   "outputs": [
    {
     "data": {
      "text/plain": [
       "STATION    0.000000\n",
       "NAME       0.000000\n",
       "PRCP       0.053582\n",
       "SNOW       0.984858\n",
       "SNWD       0.725698\n",
       "TAVG       0.785592\n",
       "TMAX       0.069338\n",
       "TMIN       0.092904\n",
       "WESD       0.999373\n",
       "WT01       0.988420\n",
       "WT03       0.999513\n",
       "WT04       0.999733\n",
       "WT05       0.999838\n",
       "WT06       0.999907\n",
       "WT08       0.991251\n",
       "WT09       0.999907\n",
       "WT16       0.991089\n",
       "WT18       0.998979\n",
       "dtype: float64"
      ]
     },
     "execution_count": 189,
     "metadata": {},
     "output_type": "execute_result"
    }
   ],
   "source": [
    "weather.apply(pd.isnull).sum()/weather.shape[0]"
   ]
  },
  {
   "cell_type": "code",
   "execution_count": 190,
   "metadata": {},
   "outputs": [],
   "source": [
    "#key_weather_values = weather[[\"PRCP\", \"SNOW\",\"SNWD\", \"TMAX\",\"TMIN\"]].copy(weather[\"STATION\"]==\"UKE00107650\")"
   ]
  },
  {
   "cell_type": "code",
   "execution_count": 191,
   "metadata": {},
   "outputs": [
    {
     "data": {
      "text/html": [
       "<div>\n",
       "<style scoped>\n",
       "    .dataframe tbody tr th:only-of-type {\n",
       "        vertical-align: middle;\n",
       "    }\n",
       "\n",
       "    .dataframe tbody tr th {\n",
       "        vertical-align: top;\n",
       "    }\n",
       "\n",
       "    .dataframe thead th {\n",
       "        text-align: right;\n",
       "    }\n",
       "</style>\n",
       "<table border=\"1\" class=\"dataframe\">\n",
       "  <thead>\n",
       "    <tr style=\"text-align: right;\">\n",
       "      <th></th>\n",
       "      <th>PRCP</th>\n",
       "      <th>SNOW</th>\n",
       "      <th>SNWD</th>\n",
       "      <th>TMAX</th>\n",
       "      <th>TMIN</th>\n",
       "    </tr>\n",
       "    <tr>\n",
       "      <th>DATE</th>\n",
       "      <th></th>\n",
       "      <th></th>\n",
       "      <th></th>\n",
       "      <th></th>\n",
       "      <th></th>\n",
       "    </tr>\n",
       "  </thead>\n",
       "  <tbody>\n",
       "    <tr>\n",
       "      <th>1960-01-01</th>\n",
       "      <td>0.10</td>\n",
       "      <td>NaN</td>\n",
       "      <td>NaN</td>\n",
       "      <td>46.0</td>\n",
       "      <td>48.0</td>\n",
       "    </tr>\n",
       "    <tr>\n",
       "      <th>1960-01-02</th>\n",
       "      <td>0.06</td>\n",
       "      <td>NaN</td>\n",
       "      <td>NaN</td>\n",
       "      <td>51.0</td>\n",
       "      <td>41.0</td>\n",
       "    </tr>\n",
       "    <tr>\n",
       "      <th>1960-01-03</th>\n",
       "      <td>0.04</td>\n",
       "      <td>NaN</td>\n",
       "      <td>NaN</td>\n",
       "      <td>53.0</td>\n",
       "      <td>41.0</td>\n",
       "    </tr>\n",
       "    <tr>\n",
       "      <th>1960-01-04</th>\n",
       "      <td>0.03</td>\n",
       "      <td>NaN</td>\n",
       "      <td>NaN</td>\n",
       "      <td>46.0</td>\n",
       "      <td>42.0</td>\n",
       "    </tr>\n",
       "    <tr>\n",
       "      <th>1960-01-05</th>\n",
       "      <td>0.00</td>\n",
       "      <td>NaN</td>\n",
       "      <td>NaN</td>\n",
       "      <td>45.0</td>\n",
       "      <td>45.0</td>\n",
       "    </tr>\n",
       "    <tr>\n",
       "      <th>...</th>\n",
       "      <td>...</td>\n",
       "      <td>...</td>\n",
       "      <td>...</td>\n",
       "      <td>...</td>\n",
       "      <td>...</td>\n",
       "    </tr>\n",
       "    <tr>\n",
       "      <th>1964-06-25</th>\n",
       "      <td>0.00</td>\n",
       "      <td>0.0</td>\n",
       "      <td>0.0</td>\n",
       "      <td>71.0</td>\n",
       "      <td>49.0</td>\n",
       "    </tr>\n",
       "    <tr>\n",
       "      <th>1964-06-26</th>\n",
       "      <td>0.00</td>\n",
       "      <td>0.0</td>\n",
       "      <td>0.0</td>\n",
       "      <td>72.0</td>\n",
       "      <td>51.0</td>\n",
       "    </tr>\n",
       "    <tr>\n",
       "      <th>1964-06-27</th>\n",
       "      <td>0.00</td>\n",
       "      <td>0.0</td>\n",
       "      <td>0.0</td>\n",
       "      <td>77.0</td>\n",
       "      <td>50.0</td>\n",
       "    </tr>\n",
       "    <tr>\n",
       "      <th>1964-06-28</th>\n",
       "      <td>0.00</td>\n",
       "      <td>0.0</td>\n",
       "      <td>0.0</td>\n",
       "      <td>72.0</td>\n",
       "      <td>60.0</td>\n",
       "    </tr>\n",
       "    <tr>\n",
       "      <th>1964-06-29</th>\n",
       "      <td>0.00</td>\n",
       "      <td>0.0</td>\n",
       "      <td>0.0</td>\n",
       "      <td>67.0</td>\n",
       "      <td>50.0</td>\n",
       "    </tr>\n",
       "  </tbody>\n",
       "</table>\n",
       "<p>86186 rows × 5 columns</p>\n",
       "</div>"
      ],
      "text/plain": [
       "            PRCP  SNOW  SNWD  TMAX  TMIN\n",
       "DATE                                    \n",
       "1960-01-01  0.10   NaN   NaN  46.0  48.0\n",
       "1960-01-02  0.06   NaN   NaN  51.0  41.0\n",
       "1960-01-03  0.04   NaN   NaN  53.0  41.0\n",
       "1960-01-04  0.03   NaN   NaN  46.0  42.0\n",
       "1960-01-05  0.00   NaN   NaN  45.0  45.0\n",
       "...          ...   ...   ...   ...   ...\n",
       "1964-06-25  0.00   0.0   0.0  71.0  49.0\n",
       "1964-06-26  0.00   0.0   0.0  72.0  51.0\n",
       "1964-06-27  0.00   0.0   0.0  77.0  50.0\n",
       "1964-06-28  0.00   0.0   0.0  72.0  60.0\n",
       "1964-06-29  0.00   0.0   0.0  67.0  50.0\n",
       "\n",
       "[86186 rows x 5 columns]"
      ]
     },
     "execution_count": 191,
     "metadata": {},
     "output_type": "execute_result"
    }
   ],
   "source": [
    "key_weather_values"
   ]
  },
  {
   "cell_type": "code",
   "execution_count": 192,
   "metadata": {},
   "outputs": [
    {
     "data": {
      "text/html": [
       "<div>\n",
       "<style scoped>\n",
       "    .dataframe tbody tr th:only-of-type {\n",
       "        vertical-align: middle;\n",
       "    }\n",
       "\n",
       "    .dataframe tbody tr th {\n",
       "        vertical-align: top;\n",
       "    }\n",
       "\n",
       "    .dataframe thead th {\n",
       "        text-align: right;\n",
       "    }\n",
       "</style>\n",
       "<table border=\"1\" class=\"dataframe\">\n",
       "  <thead>\n",
       "    <tr style=\"text-align: right;\">\n",
       "      <th></th>\n",
       "      <th>PRCP</th>\n",
       "      <th>SNOW</th>\n",
       "      <th>SNWD</th>\n",
       "      <th>TMAX</th>\n",
       "      <th>TMIN</th>\n",
       "    </tr>\n",
       "    <tr>\n",
       "      <th>DATE</th>\n",
       "      <th></th>\n",
       "      <th></th>\n",
       "      <th></th>\n",
       "      <th></th>\n",
       "      <th></th>\n",
       "    </tr>\n",
       "  </thead>\n",
       "  <tbody>\n",
       "    <tr>\n",
       "      <th>1965-06-01</th>\n",
       "      <td>NaN</td>\n",
       "      <td>NaN</td>\n",
       "      <td>NaN</td>\n",
       "      <td>65.0</td>\n",
       "      <td>44.0</td>\n",
       "    </tr>\n",
       "    <tr>\n",
       "      <th>1965-06-02</th>\n",
       "      <td>NaN</td>\n",
       "      <td>NaN</td>\n",
       "      <td>NaN</td>\n",
       "      <td>63.0</td>\n",
       "      <td>44.0</td>\n",
       "    </tr>\n",
       "    <tr>\n",
       "      <th>1965-06-03</th>\n",
       "      <td>NaN</td>\n",
       "      <td>NaN</td>\n",
       "      <td>NaN</td>\n",
       "      <td>67.0</td>\n",
       "      <td>45.0</td>\n",
       "    </tr>\n",
       "    <tr>\n",
       "      <th>1965-06-04</th>\n",
       "      <td>NaN</td>\n",
       "      <td>NaN</td>\n",
       "      <td>NaN</td>\n",
       "      <td>64.0</td>\n",
       "      <td>47.0</td>\n",
       "    </tr>\n",
       "    <tr>\n",
       "      <th>1965-06-05</th>\n",
       "      <td>NaN</td>\n",
       "      <td>NaN</td>\n",
       "      <td>NaN</td>\n",
       "      <td>65.0</td>\n",
       "      <td>47.0</td>\n",
       "    </tr>\n",
       "    <tr>\n",
       "      <th>...</th>\n",
       "      <td>...</td>\n",
       "      <td>...</td>\n",
       "      <td>...</td>\n",
       "      <td>...</td>\n",
       "      <td>...</td>\n",
       "    </tr>\n",
       "    <tr>\n",
       "      <th>1961-03-04</th>\n",
       "      <td>NaN</td>\n",
       "      <td>0.0</td>\n",
       "      <td>0.0</td>\n",
       "      <td>57.0</td>\n",
       "      <td>34.0</td>\n",
       "    </tr>\n",
       "    <tr>\n",
       "      <th>1961-03-05</th>\n",
       "      <td>NaN</td>\n",
       "      <td>0.0</td>\n",
       "      <td>0.0</td>\n",
       "      <td>60.0</td>\n",
       "      <td>30.0</td>\n",
       "    </tr>\n",
       "    <tr>\n",
       "      <th>1961-03-06</th>\n",
       "      <td>NaN</td>\n",
       "      <td>0.0</td>\n",
       "      <td>0.0</td>\n",
       "      <td>61.0</td>\n",
       "      <td>33.0</td>\n",
       "    </tr>\n",
       "    <tr>\n",
       "      <th>1961-03-07</th>\n",
       "      <td>NaN</td>\n",
       "      <td>0.0</td>\n",
       "      <td>0.0</td>\n",
       "      <td>58.0</td>\n",
       "      <td>38.0</td>\n",
       "    </tr>\n",
       "    <tr>\n",
       "      <th>1961-03-08</th>\n",
       "      <td>NaN</td>\n",
       "      <td>0.0</td>\n",
       "      <td>0.0</td>\n",
       "      <td>60.0</td>\n",
       "      <td>42.0</td>\n",
       "    </tr>\n",
       "  </tbody>\n",
       "</table>\n",
       "<p>4618 rows × 5 columns</p>\n",
       "</div>"
      ],
      "text/plain": [
       "            PRCP  SNOW  SNWD  TMAX  TMIN\n",
       "DATE                                    \n",
       "1965-06-01   NaN   NaN   NaN  65.0  44.0\n",
       "1965-06-02   NaN   NaN   NaN  63.0  44.0\n",
       "1965-06-03   NaN   NaN   NaN  67.0  45.0\n",
       "1965-06-04   NaN   NaN   NaN  64.0  47.0\n",
       "1965-06-05   NaN   NaN   NaN  65.0  47.0\n",
       "...          ...   ...   ...   ...   ...\n",
       "1961-03-04   NaN   0.0   0.0  57.0  34.0\n",
       "1961-03-05   NaN   0.0   0.0  60.0  30.0\n",
       "1961-03-06   NaN   0.0   0.0  61.0  33.0\n",
       "1961-03-07   NaN   0.0   0.0  58.0  38.0\n",
       "1961-03-08   NaN   0.0   0.0  60.0  42.0\n",
       "\n",
       "[4618 rows x 5 columns]"
      ]
     },
     "execution_count": 192,
     "metadata": {},
     "output_type": "execute_result"
    }
   ],
   "source": [
    "key_weather_values[pd.isnull(key_weather_values[\"PRCP\"])]"
   ]
  },
  {
   "cell_type": "code",
   "execution_count": 193,
   "metadata": {},
   "outputs": [
    {
     "data": {
      "text/plain": [
       "0.00    43834\n",
       "0.01     5463\n",
       "0.02     4264\n",
       "0.04     2290\n",
       "0.06     1939\n",
       "        ...  \n",
       "2.43        1\n",
       "1.80        1\n",
       "2.34        1\n",
       "2.03        1\n",
       "4.02        1\n",
       "Name: PRCP, Length: 203, dtype: int64"
      ]
     },
     "execution_count": 193,
     "metadata": {},
     "output_type": "execute_result"
    }
   ],
   "source": [
    "key_weather_values[\"PRCP\"].value_counts()"
   ]
  },
  {
   "cell_type": "code",
   "execution_count": 194,
   "metadata": {},
   "outputs": [
    {
     "data": {
      "text/plain": [
       "DATE\n",
       "1960-01-01    0.10\n",
       "1960-01-02    0.06\n",
       "1960-01-03    0.04\n",
       "1960-01-04    0.03\n",
       "1960-01-05    0.00\n",
       "              ... \n",
       "1964-06-25    0.00\n",
       "1964-06-26    0.00\n",
       "1964-06-27    0.00\n",
       "1964-06-28    0.00\n",
       "1964-06-29    0.00\n",
       "Name: PRCP, Length: 86186, dtype: float64"
      ]
     },
     "execution_count": 194,
     "metadata": {},
     "output_type": "execute_result"
    }
   ],
   "source": [
    "key_weather_values[\"PRCP\"].fillna(0)"
   ]
  },
  {
   "cell_type": "code",
   "execution_count": 195,
   "metadata": {},
   "outputs": [
    {
     "data": {
      "text/plain": [
       "0.0     1273\n",
       "0.1        5\n",
       "0.5        4\n",
       "1.0        4\n",
       "0.2        3\n",
       "2.2        2\n",
       "3.0        2\n",
       "0.3        2\n",
       "3.1        1\n",
       "2.5        1\n",
       "4.7        1\n",
       "14.3       1\n",
       "7.0        1\n",
       "5.9        1\n",
       "3.2        1\n",
       "1.4        1\n",
       "1.3        1\n",
       "0.7        1\n",
       "Name: SNOW, dtype: int64"
      ]
     },
     "execution_count": 195,
     "metadata": {},
     "output_type": "execute_result"
    }
   ],
   "source": [
    "key_weather_values[\"SNOW\"].value_counts()"
   ]
  },
  {
   "cell_type": "code",
   "execution_count": 196,
   "metadata": {},
   "outputs": [
    {
     "data": {
      "text/plain": [
       "0.0      23109\n",
       "0.4        163\n",
       "0.8         87\n",
       "1.6         51\n",
       "2.0         45\n",
       "1.2         41\n",
       "1.0         19\n",
       "3.0         14\n",
       "2.8         13\n",
       "3.1         13\n",
       "2.4         12\n",
       "4.0          9\n",
       "3.9          9\n",
       "4.7          6\n",
       "3.5          6\n",
       "4.3          5\n",
       "11.0         5\n",
       "5.1          4\n",
       "7.1          4\n",
       "6.3          3\n",
       "19.0         2\n",
       "9.0          2\n",
       "18.0         2\n",
       "7.0          2\n",
       "7.9          2\n",
       "6.7          2\n",
       "5.5          2\n",
       "23.6         1\n",
       "10.0         1\n",
       "12.0         1\n",
       "112.2        1\n",
       "9.4          1\n",
       "16.0         1\n",
       "5.9          1\n",
       "8.7          1\n",
       "8.0          1\n",
       "Name: SNWD, dtype: int64"
      ]
     },
     "execution_count": 196,
     "metadata": {},
     "output_type": "execute_result"
    }
   ],
   "source": [
    "key_weather_values[\"SNWD\"].value_counts()"
   ]
  },
  {
   "cell_type": "code",
   "execution_count": 197,
   "metadata": {},
   "outputs": [
    {
     "data": {
      "text/plain": [
       "54.0     2853\n",
       "53.0     2620\n",
       "51.0     2514\n",
       "65.0     2498\n",
       "52.0     2466\n",
       "         ... \n",
       "104.0       2\n",
       "19.0        1\n",
       "21.0        1\n",
       "20.0        1\n",
       "103.0       1\n",
       "Name: TMAX, Length: 83, dtype: int64"
      ]
     },
     "execution_count": 197,
     "metadata": {},
     "output_type": "execute_result"
    }
   ],
   "source": [
    "key_weather_values[\"TMAX\"].value_counts()"
   ]
  },
  {
   "cell_type": "code",
   "execution_count": 198,
   "metadata": {},
   "outputs": [
    {
     "data": {
      "text/plain": [
       "DATE\n",
       "1960-01-01    0.0\n",
       "1960-01-02    0.0\n",
       "1960-01-03    0.0\n",
       "1960-01-04    0.0\n",
       "1960-01-05    0.0\n",
       "             ... \n",
       "1964-06-25    0.0\n",
       "1964-06-26    0.0\n",
       "1964-06-27    0.0\n",
       "1964-06-28    0.0\n",
       "1964-06-29    0.0\n",
       "Name: SNOW, Length: 86186, dtype: float64"
      ]
     },
     "execution_count": 198,
     "metadata": {},
     "output_type": "execute_result"
    }
   ],
   "source": [
    "key_weather_values[\"SNOW\"].fillna(0)"
   ]
  },
  {
   "cell_type": "code",
   "execution_count": 199,
   "metadata": {},
   "outputs": [
    {
     "data": {
      "text/plain": [
       "DATE\n",
       "1960-01-01    0.0\n",
       "1960-01-02    0.0\n",
       "1960-01-03    0.0\n",
       "1960-01-04    0.0\n",
       "1960-01-05    0.0\n",
       "             ... \n",
       "1964-06-25    0.0\n",
       "1964-06-26    0.0\n",
       "1964-06-27    0.0\n",
       "1964-06-28    0.0\n",
       "1964-06-29    0.0\n",
       "Name: SNWD, Length: 86186, dtype: float64"
      ]
     },
     "execution_count": 199,
     "metadata": {},
     "output_type": "execute_result"
    }
   ],
   "source": [
    "key_weather_values[\"SNWD\"].fillna(0)"
   ]
  },
  {
   "cell_type": "code",
   "execution_count": 200,
   "metadata": {},
   "outputs": [
    {
     "data": {
      "text/html": [
       "<div>\n",
       "<style scoped>\n",
       "    .dataframe tbody tr th:only-of-type {\n",
       "        vertical-align: middle;\n",
       "    }\n",
       "\n",
       "    .dataframe tbody tr th {\n",
       "        vertical-align: top;\n",
       "    }\n",
       "\n",
       "    .dataframe thead th {\n",
       "        text-align: right;\n",
       "    }\n",
       "</style>\n",
       "<table border=\"1\" class=\"dataframe\">\n",
       "  <thead>\n",
       "    <tr style=\"text-align: right;\">\n",
       "      <th></th>\n",
       "      <th>PRCP</th>\n",
       "      <th>SNOW</th>\n",
       "      <th>SNWD</th>\n",
       "      <th>TMAX</th>\n",
       "      <th>TMIN</th>\n",
       "    </tr>\n",
       "    <tr>\n",
       "      <th>DATE</th>\n",
       "      <th></th>\n",
       "      <th></th>\n",
       "      <th></th>\n",
       "      <th></th>\n",
       "      <th></th>\n",
       "    </tr>\n",
       "  </thead>\n",
       "  <tbody>\n",
       "    <tr>\n",
       "      <th>1960-01-01</th>\n",
       "      <td>0.10</td>\n",
       "      <td>NaN</td>\n",
       "      <td>NaN</td>\n",
       "      <td>46.0</td>\n",
       "      <td>48.0</td>\n",
       "    </tr>\n",
       "    <tr>\n",
       "      <th>1960-01-02</th>\n",
       "      <td>0.06</td>\n",
       "      <td>NaN</td>\n",
       "      <td>NaN</td>\n",
       "      <td>51.0</td>\n",
       "      <td>41.0</td>\n",
       "    </tr>\n",
       "    <tr>\n",
       "      <th>1960-01-03</th>\n",
       "      <td>0.04</td>\n",
       "      <td>NaN</td>\n",
       "      <td>NaN</td>\n",
       "      <td>53.0</td>\n",
       "      <td>41.0</td>\n",
       "    </tr>\n",
       "    <tr>\n",
       "      <th>1960-01-04</th>\n",
       "      <td>0.03</td>\n",
       "      <td>NaN</td>\n",
       "      <td>NaN</td>\n",
       "      <td>46.0</td>\n",
       "      <td>42.0</td>\n",
       "    </tr>\n",
       "    <tr>\n",
       "      <th>1960-01-05</th>\n",
       "      <td>0.00</td>\n",
       "      <td>NaN</td>\n",
       "      <td>NaN</td>\n",
       "      <td>45.0</td>\n",
       "      <td>45.0</td>\n",
       "    </tr>\n",
       "    <tr>\n",
       "      <th>...</th>\n",
       "      <td>...</td>\n",
       "      <td>...</td>\n",
       "      <td>...</td>\n",
       "      <td>...</td>\n",
       "      <td>...</td>\n",
       "    </tr>\n",
       "    <tr>\n",
       "      <th>1964-06-25</th>\n",
       "      <td>0.00</td>\n",
       "      <td>0.0</td>\n",
       "      <td>0.0</td>\n",
       "      <td>71.0</td>\n",
       "      <td>49.0</td>\n",
       "    </tr>\n",
       "    <tr>\n",
       "      <th>1964-06-26</th>\n",
       "      <td>0.00</td>\n",
       "      <td>0.0</td>\n",
       "      <td>0.0</td>\n",
       "      <td>72.0</td>\n",
       "      <td>51.0</td>\n",
       "    </tr>\n",
       "    <tr>\n",
       "      <th>1964-06-27</th>\n",
       "      <td>0.00</td>\n",
       "      <td>0.0</td>\n",
       "      <td>0.0</td>\n",
       "      <td>77.0</td>\n",
       "      <td>50.0</td>\n",
       "    </tr>\n",
       "    <tr>\n",
       "      <th>1964-06-28</th>\n",
       "      <td>0.00</td>\n",
       "      <td>0.0</td>\n",
       "      <td>0.0</td>\n",
       "      <td>72.0</td>\n",
       "      <td>60.0</td>\n",
       "    </tr>\n",
       "    <tr>\n",
       "      <th>1964-06-29</th>\n",
       "      <td>0.00</td>\n",
       "      <td>0.0</td>\n",
       "      <td>0.0</td>\n",
       "      <td>67.0</td>\n",
       "      <td>50.0</td>\n",
       "    </tr>\n",
       "  </tbody>\n",
       "</table>\n",
       "<p>86186 rows × 5 columns</p>\n",
       "</div>"
      ],
      "text/plain": [
       "            PRCP  SNOW  SNWD  TMAX  TMIN\n",
       "DATE                                    \n",
       "1960-01-01  0.10   NaN   NaN  46.0  48.0\n",
       "1960-01-02  0.06   NaN   NaN  51.0  41.0\n",
       "1960-01-03  0.04   NaN   NaN  53.0  41.0\n",
       "1960-01-04  0.03   NaN   NaN  46.0  42.0\n",
       "1960-01-05  0.00   NaN   NaN  45.0  45.0\n",
       "...          ...   ...   ...   ...   ...\n",
       "1964-06-25  0.00   0.0   0.0  71.0  49.0\n",
       "1964-06-26  0.00   0.0   0.0  72.0  51.0\n",
       "1964-06-27  0.00   0.0   0.0  77.0  50.0\n",
       "1964-06-28  0.00   0.0   0.0  72.0  60.0\n",
       "1964-06-29  0.00   0.0   0.0  67.0  50.0\n",
       "\n",
       "[86186 rows x 5 columns]"
      ]
     },
     "execution_count": 200,
     "metadata": {},
     "output_type": "execute_result"
    }
   ],
   "source": [
    "key_weather_values"
   ]
  },
  {
   "cell_type": "code",
   "execution_count": 201,
   "metadata": {},
   "outputs": [],
   "source": [
    "key_weather_values[\"PRCP\"] = key_weather_values[\"PRCP\"].fillna(0)\n",
    "key_weather_values[\"SNOW\"] = key_weather_values[\"SNOW\"].fillna(0)\n",
    "key_weather_values[\"SNWD\"] = key_weather_values[\"SNWD\"].fillna(0)"
   ]
  },
  {
   "cell_type": "code",
   "execution_count": 202,
   "metadata": {},
   "outputs": [
    {
     "data": {
      "text/html": [
       "<div>\n",
       "<style scoped>\n",
       "    .dataframe tbody tr th:only-of-type {\n",
       "        vertical-align: middle;\n",
       "    }\n",
       "\n",
       "    .dataframe tbody tr th {\n",
       "        vertical-align: top;\n",
       "    }\n",
       "\n",
       "    .dataframe thead th {\n",
       "        text-align: right;\n",
       "    }\n",
       "</style>\n",
       "<table border=\"1\" class=\"dataframe\">\n",
       "  <thead>\n",
       "    <tr style=\"text-align: right;\">\n",
       "      <th></th>\n",
       "      <th>PRCP</th>\n",
       "      <th>SNOW</th>\n",
       "      <th>SNWD</th>\n",
       "      <th>TMAX</th>\n",
       "      <th>TMIN</th>\n",
       "    </tr>\n",
       "    <tr>\n",
       "      <th>DATE</th>\n",
       "      <th></th>\n",
       "      <th></th>\n",
       "      <th></th>\n",
       "      <th></th>\n",
       "      <th></th>\n",
       "    </tr>\n",
       "  </thead>\n",
       "  <tbody>\n",
       "    <tr>\n",
       "      <th>1960-01-01</th>\n",
       "      <td>0.10</td>\n",
       "      <td>0.0</td>\n",
       "      <td>0.0</td>\n",
       "      <td>46.0</td>\n",
       "      <td>48.0</td>\n",
       "    </tr>\n",
       "    <tr>\n",
       "      <th>1960-01-02</th>\n",
       "      <td>0.06</td>\n",
       "      <td>0.0</td>\n",
       "      <td>0.0</td>\n",
       "      <td>51.0</td>\n",
       "      <td>41.0</td>\n",
       "    </tr>\n",
       "    <tr>\n",
       "      <th>1960-01-03</th>\n",
       "      <td>0.04</td>\n",
       "      <td>0.0</td>\n",
       "      <td>0.0</td>\n",
       "      <td>53.0</td>\n",
       "      <td>41.0</td>\n",
       "    </tr>\n",
       "    <tr>\n",
       "      <th>1960-01-04</th>\n",
       "      <td>0.03</td>\n",
       "      <td>0.0</td>\n",
       "      <td>0.0</td>\n",
       "      <td>46.0</td>\n",
       "      <td>42.0</td>\n",
       "    </tr>\n",
       "    <tr>\n",
       "      <th>1960-01-05</th>\n",
       "      <td>0.00</td>\n",
       "      <td>0.0</td>\n",
       "      <td>0.0</td>\n",
       "      <td>45.0</td>\n",
       "      <td>45.0</td>\n",
       "    </tr>\n",
       "    <tr>\n",
       "      <th>...</th>\n",
       "      <td>...</td>\n",
       "      <td>...</td>\n",
       "      <td>...</td>\n",
       "      <td>...</td>\n",
       "      <td>...</td>\n",
       "    </tr>\n",
       "    <tr>\n",
       "      <th>1964-06-25</th>\n",
       "      <td>0.00</td>\n",
       "      <td>0.0</td>\n",
       "      <td>0.0</td>\n",
       "      <td>71.0</td>\n",
       "      <td>49.0</td>\n",
       "    </tr>\n",
       "    <tr>\n",
       "      <th>1964-06-26</th>\n",
       "      <td>0.00</td>\n",
       "      <td>0.0</td>\n",
       "      <td>0.0</td>\n",
       "      <td>72.0</td>\n",
       "      <td>51.0</td>\n",
       "    </tr>\n",
       "    <tr>\n",
       "      <th>1964-06-27</th>\n",
       "      <td>0.00</td>\n",
       "      <td>0.0</td>\n",
       "      <td>0.0</td>\n",
       "      <td>77.0</td>\n",
       "      <td>50.0</td>\n",
       "    </tr>\n",
       "    <tr>\n",
       "      <th>1964-06-28</th>\n",
       "      <td>0.00</td>\n",
       "      <td>0.0</td>\n",
       "      <td>0.0</td>\n",
       "      <td>72.0</td>\n",
       "      <td>60.0</td>\n",
       "    </tr>\n",
       "    <tr>\n",
       "      <th>1964-06-29</th>\n",
       "      <td>0.00</td>\n",
       "      <td>0.0</td>\n",
       "      <td>0.0</td>\n",
       "      <td>67.0</td>\n",
       "      <td>50.0</td>\n",
       "    </tr>\n",
       "  </tbody>\n",
       "</table>\n",
       "<p>86186 rows × 5 columns</p>\n",
       "</div>"
      ],
      "text/plain": [
       "            PRCP  SNOW  SNWD  TMAX  TMIN\n",
       "DATE                                    \n",
       "1960-01-01  0.10   0.0   0.0  46.0  48.0\n",
       "1960-01-02  0.06   0.0   0.0  51.0  41.0\n",
       "1960-01-03  0.04   0.0   0.0  53.0  41.0\n",
       "1960-01-04  0.03   0.0   0.0  46.0  42.0\n",
       "1960-01-05  0.00   0.0   0.0  45.0  45.0\n",
       "...          ...   ...   ...   ...   ...\n",
       "1964-06-25  0.00   0.0   0.0  71.0  49.0\n",
       "1964-06-26  0.00   0.0   0.0  72.0  51.0\n",
       "1964-06-27  0.00   0.0   0.0  77.0  50.0\n",
       "1964-06-28  0.00   0.0   0.0  72.0  60.0\n",
       "1964-06-29  0.00   0.0   0.0  67.0  50.0\n",
       "\n",
       "[86186 rows x 5 columns]"
      ]
     },
     "execution_count": 202,
     "metadata": {},
     "output_type": "execute_result"
    }
   ],
   "source": [
    "key_weather_values"
   ]
  },
  {
   "cell_type": "code",
   "execution_count": 203,
   "metadata": {},
   "outputs": [],
   "source": [
    "key_weather_values = key_weather_values.fillna(method=\"ffill\")"
   ]
  },
  {
   "cell_type": "code",
   "execution_count": 204,
   "metadata": {},
   "outputs": [
    {
     "data": {
      "text/plain": [
       "PRCP    0.0\n",
       "SNOW    0.0\n",
       "SNWD    0.0\n",
       "TMAX    0.0\n",
       "TMIN    0.0\n",
       "dtype: float64"
      ]
     },
     "execution_count": 204,
     "metadata": {},
     "output_type": "execute_result"
    }
   ],
   "source": [
    "key_weather_values.apply(pd.isnull).sum()/weather.shape[0]"
   ]
  },
  {
   "cell_type": "code",
   "execution_count": 205,
   "metadata": {},
   "outputs": [
    {
     "data": {
      "text/plain": [
       "Index(['1960-01-01', '1960-01-02', '1960-01-03', '1960-01-04', '1960-01-05',\n",
       "       '1960-01-06', '1960-01-07', '1960-01-08', '1960-01-09', '1960-01-10',\n",
       "       ...\n",
       "       '1964-06-20', '1964-06-21', '1964-06-22', '1964-06-23', '1964-06-24',\n",
       "       '1964-06-25', '1964-06-26', '1964-06-27', '1964-06-28', '1964-06-29'],\n",
       "      dtype='object', name='DATE', length=86186)"
      ]
     },
     "execution_count": 205,
     "metadata": {},
     "output_type": "execute_result"
    }
   ],
   "source": [
    "#Check data types of columns\n",
    "key_weather_values.dtypes\n",
    "\n",
    "#Checks data types of index (the dates)\n",
    "key_weather_values.index"
   ]
  },
  {
   "cell_type": "code",
   "execution_count": 206,
   "metadata": {},
   "outputs": [],
   "source": [
    "key_weather_values.index = pd.to_datetime(key_weather_values.index)"
   ]
  },
  {
   "cell_type": "code",
   "execution_count": 207,
   "metadata": {},
   "outputs": [
    {
     "data": {
      "text/plain": [
       "DatetimeIndex(['1960-01-01', '1960-01-02', '1960-01-03', '1960-01-04',\n",
       "               '1960-01-05', '1960-01-06', '1960-01-07', '1960-01-08',\n",
       "               '1960-01-09', '1960-01-10',\n",
       "               ...\n",
       "               '1964-06-20', '1964-06-21', '1964-06-22', '1964-06-23',\n",
       "               '1964-06-24', '1964-06-25', '1964-06-26', '1964-06-27',\n",
       "               '1964-06-28', '1964-06-29'],\n",
       "              dtype='datetime64[ns]', name='DATE', length=86186, freq=None)"
      ]
     },
     "execution_count": 207,
     "metadata": {},
     "output_type": "execute_result"
    }
   ],
   "source": [
    "key_weather_values.index"
   ]
  },
  {
   "cell_type": "code",
   "execution_count": 208,
   "metadata": {},
   "outputs": [
    {
     "data": {
      "text/plain": [
       "PRCP    0\n",
       "SNOW    0\n",
       "SNWD    0\n",
       "TMAX    0\n",
       "TMIN    0\n",
       "dtype: int64"
      ]
     },
     "execution_count": 208,
     "metadata": {},
     "output_type": "execute_result"
    }
   ],
   "source": [
    "key_weather_values.apply(lambda x: (x==9999).sum())"
   ]
  },
  {
   "cell_type": "code",
   "execution_count": 209,
   "metadata": {},
   "outputs": [
    {
     "data": {
      "text/plain": [
       "<AxesSubplot:xlabel='DATE'>"
      ]
     },
     "execution_count": 209,
     "metadata": {},
     "output_type": "execute_result"
    },
    {
     "data": {
      "image/png": "[encoded data removed]",
      "text/plain": [
       "<Figure size 640x480 with 1 Axes>"
      ]
     },
     "metadata": {},
     "output_type": "display_data"
    }
   ],
   "source": [
    "key_weather_values[[\"TMIN\",\"TMAX\"]].plot()"
   ]
  },
  {
   "cell_type": "code",
   "execution_count": 210,
   "metadata": {},
   "outputs": [
    {
     "data": {
      "text/plain": [
       "<AxesSubplot:xlabel='DATE'>"
      ]
     },
     "execution_count": 210,
     "metadata": {},
     "output_type": "execute_result"
    },
    {
     "data": {
      "image/png": "[encoded data removed]",
      "text/plain": [
       "<Figure size 640x480 with 1 Axes>"
      ]
     },
     "metadata": {},
     "output_type": "display_data"
    }
   ],
   "source": [
    "key_weather_values[[\"SNOW\",\"SNWD\"]].plot()"
   ]
  },
  {
   "cell_type": "code",
   "execution_count": 211,
   "metadata": {},
   "outputs": [
    {
     "data": {
      "text/plain": [
       "<AxesSubplot:xlabel='DATE'>"
      ]
     },
     "execution_count": 211,
     "metadata": {},
     "output_type": "execute_result"
    },
    {
     "data": {
      "image/png": "[encoded data removed]",
      "text/plain": [
       "<Figure size 640x480 with 1 Axes>"
      ]
     },
     "metadata": {},
     "output_type": "display_data"
    }
   ],
   "source": [
    "key_weather_values[[\"PRCP\"]].plot()"
   ]
  },
  {
   "cell_type": "code",
   "execution_count": 212,
   "metadata": {},
   "outputs": [],
   "source": [
    "key_weather_values[\"TMIN\"] = (key_weather_values[\"TMIN\"]-32)* (5/9)"
   ]
  },
  {
   "cell_type": "code",
   "execution_count": 213,
   "metadata": {},
   "outputs": [
    {
     "data": {
      "text/plain": [
       "DATE\n",
       "1960-01-01     8.888889\n",
       "1960-01-02     5.000000\n",
       "1960-01-03     5.000000\n",
       "1960-01-04     5.555556\n",
       "1960-01-05     7.222222\n",
       "                ...    \n",
       "1964-06-25     9.444444\n",
       "1964-06-26    10.555556\n",
       "1964-06-27    10.000000\n",
       "1964-06-28    15.555556\n",
       "1964-06-29    10.000000\n",
       "Name: TMIN, Length: 86186, dtype: float64"
      ]
     },
     "execution_count": 213,
     "metadata": {},
     "output_type": "execute_result"
    }
   ],
   "source": [
    "key_weather_values[\"TMIN\"]"
   ]
  },
  {
   "cell_type": "code",
   "execution_count": 214,
   "metadata": {},
   "outputs": [],
   "source": [
    "key_weather_values[\"TMAX\"] = (key_weather_values[\"TMAX\"]-32)* (5/9)"
   ]
  },
  {
   "cell_type": "code",
   "execution_count": 215,
   "metadata": {},
   "outputs": [
    {
     "data": {
      "text/plain": [
       "DATE\n",
       "1960-01-01     7.777778\n",
       "1960-01-02    10.555556\n",
       "1960-01-03    11.666667\n",
       "1960-01-04     7.777778\n",
       "1960-01-05     7.222222\n",
       "                ...    \n",
       "1964-06-25    21.666667\n",
       "1964-06-26    22.222222\n",
       "1964-06-27    25.000000\n",
       "1964-06-28    22.222222\n",
       "1964-06-29    19.444444\n",
       "Name: TMAX, Length: 86186, dtype: float64"
      ]
     },
     "execution_count": 215,
     "metadata": {},
     "output_type": "execute_result"
    }
   ],
   "source": [
    "key_weather_values[\"TMAX\"]"
   ]
  },
  {
   "cell_type": "code",
   "execution_count": 216,
   "metadata": {},
   "outputs": [
    {
     "data": {
      "text/plain": [
       "<AxesSubplot:xlabel='DATE'>"
      ]
     },
     "execution_count": 216,
     "metadata": {},
     "output_type": "execute_result"
    },
    {
     "data": {
      "image/png": "[encoded data removed]",
      "text/plain": [
       "<Figure size 640x480 with 1 Axes>"
      ]
     },
     "metadata": {},
     "output_type": "display_data"
    }
   ],
   "source": [
    "key_weather_values[[\"TMIN\",\"TMAX\"]].plot()"
   ]
  },
  {
   "cell_type": "code",
   "execution_count": 217,
   "metadata": {},
   "outputs": [],
   "source": [
    "key_weather_values[\"TARGET\"]=key_weather_values.shift(-1)[\"TMAX\"]"
   ]
  },
  {
   "cell_type": "code",
   "execution_count": 218,
   "metadata": {},
   "outputs": [
    {
     "ename": "NameError",
     "evalue": "name 'HAMPSTEAD' is not defined",
     "output_type": "error",
     "traceback": [
      "\u001b[0;31m---------------------------------------------------------------------------\u001b[0m",
      "\u001b[0;31mNameError\u001b[0m                                 Traceback (most recent call last)",
      "\u001b[0;32m/var/folders/gf/4nkqxyjd5bl_pctch490d2h80000gn/T/ipykernel_76905/4192555471.py\u001b[0m in \u001b[0;36m<module>\u001b[0;34m\u001b[0m\n\u001b[0;32m----> 1\u001b[0;31m \u001b[0mHAMPSTEAD_data\u001b[0m \u001b[0;34m=\u001b[0m \u001b[0mkey_weather_values\u001b[0m\u001b[0;34m[\u001b[0m\u001b[0;34m[\u001b[0m\u001b[0;34m\"NAME\"\u001b[0m \u001b[0;34m==\u001b[0m \u001b[0mHAMPSTEAD\u001b[0m\u001b[0;34m]\u001b[0m\u001b[0;34m[\u001b[0m\u001b[0;34m\"PRCP\"\u001b[0m\u001b[0;34m,\u001b[0m \u001b[0;34m\"SNOW\"\u001b[0m\u001b[0;34m,\u001b[0m\u001b[0;34m\"SNWD\"\u001b[0m\u001b[0;34m,\u001b[0m \u001b[0;34m\"TMAX\"\u001b[0m\u001b[0;34m,\u001b[0m\u001b[0;34m\"TMIN\"\u001b[0m\u001b[0;34m]\u001b[0m\u001b[0;34m]\u001b[0m\u001b[0;34m.\u001b[0m\u001b[0mcopy\u001b[0m\u001b[0;34m(\u001b[0m\u001b[0;34m)\u001b[0m\u001b[0;34m\u001b[0m\u001b[0;34m\u001b[0m\u001b[0m\n\u001b[0m",
      "\u001b[0;31mNameError\u001b[0m: name 'HAMPSTEAD' is not defined"
     ]
    }
   ],
   "source": [
    "HAMPSTEAD_data = key_weather_values[[\"NAME\" == HAMPSTEAD][\"PRCP\", \"SNOW\",\"SNWD\", \"TMAX\",\"TMIN\"]].copy()"
   ]
  },
  {
   "cell_type": "code",
   "execution_count": 281,
   "metadata": {},
   "outputs": [],
   "source": [
    "def predict():\n",
    "\n"
   ]
  },
  {
   "cell_type": "code",
   "execution_count": 283,
   "metadata": {},
   "outputs": [
    {
     "data": {
      "text/plain": [
       "<AxesSubplot:xlabel='DATE'>"
      ]
     },
     "execution_count": 283,
     "metadata": {},
     "output_type": "execute_result"
    },
    {
     "data": {
      "image/png": "[encoded data removed]",
      "text/plain": [
       "<Figure size 640x480 with 1 Axes>"
      ]
     },
     "metadata": {},
     "output_type": "display_data"
    }
   ],
   "source": [
    "predict()"
   ]
  },
  {
   "cell_type": "code",
   "execution_count": null,
   "metadata": {},
   "outputs": [
    {
     "ename": "",
     "evalue": "",
     "output_type": "error",
     "traceback": [
      "\u001b[1;31mCanceled future for execute_request message before replies were done"
     ]
    }
   ],
   "source": [
    "def prepareSet(testWeather):\n",
    "    import pandas as pd\n",
    "\n",
    "    \n",
    "    #Load weather dataset\n",
    "    #Sets the index to date\n",
    "    modifiedSet = testWeather[[\"PRCP\", \"SNWD\", \"TMAX\",\"TMIN\"]].copy()\n",
    "\n",
    "    #Fill in empty values\n",
    "    modifiedSet[\"PRCP\"] = modifiedSet[\"PRCP\"].fillna(0)\n",
    "    modifiedSet[\"SNWD\"] = modifiedSet[\"SNWD\"].fillna(0)\n",
    "    modifiedSet = modifiedSet.fillna(method=\"ffill\")\n",
    "\n",
    "    #Remove the first value, as it can't be filled in\n",
    "    modifiedSet = modifiedSet.iloc[1:,:].copy()\n",
    "\n",
    "    #Convert date string to date type\n",
    "    modifiedSet.index = pd.to_datetime(modifiedSet.index)\n",
    "\n",
    "    #Convert F to C\n",
    "    modifiedSet[\"TMAX\"] = (modifiedSet[\"TMAX\"]-32)* (5/9)\n",
    "\n",
    "    modifiedSet[\"TMIN\"] = (modifiedSet[\"TMIN\"]-32)* (5/9)\n",
    "\n",
    "    #Monthly average\n",
    "    modifiedSet[\"MONTHLY_AVG\"] = modifiedSet[\"TMAX\"].groupby(modifiedSet.index.month).apply(lambda x: x.expanding(1).mean())\n",
    "\n",
    "    #Daily average\n",
    "    modifiedSet[\"DAY_OF_YEAR_AVG\"] = modifiedSet[\"TMAX\"].groupby(modifiedSet.index.day_of_year).apply(lambda x: x.expanding(1).mean())\n",
    "\n",
    "    return modifiedSet\n",
    "\n",
    "\n",
    "def makePrediction(predictors, modifiedSet, reg):\n",
    "    import pandas as pd\n",
    "    #Split dataset into training set and test set\n",
    "    train = modifiedSet.loc[:\"2020-12-31\"]\n",
    "    test = modifiedSet.loc[\"2021-01-01\":]\n",
    "\n",
    "    #Fit training model to dataset\n",
    "    reg.fit(train[predictors], train[\"TARGET\"])\n",
    "    predictions = reg.predict(test[predictors])\n",
    "\n",
    "    from sklearn.metrics import mean_absolute_error\n",
    "\n",
    "    #Calculates the average error off on the whole dataset\n",
    "    mean_absolute_error(test[\"TARGET\"], predictions)\n",
    "\n",
    "    comparison = pd.concat([test[\"TARGET\"], pd.Series(predictions, index=test.index)], axis = 1)\n",
    "    comparison.columns = [\"ACTUAL\", \"PREDICTION\"]\n",
    "\n",
    "\n",
    "    return mean_absolute_error(test[\"TARGET\"], predictions)\n",
    "\n",
    "from sklearn.linear_model import Ridge\n",
    "testWeather = pd.read_csv(\"set1.csv\", index_col=\"DATE\")\n",
    "\n",
    "modifiedSet = prepareSet(testWeather)\n",
    "\n",
    "#Set target to TMAX\n",
    "modifiedSet[\"TARGET\"] = modifiedSet.shift(-1)[\"TMIN\"]\n",
    "\n",
    "#Removes the last row as it does not have a target\n",
    "modifiedSet = modifiedSet.iloc[:-1,:].copy()\n",
    "\n",
    "#Removes first 30 rows to remove empty values\n",
    "modifiedSet = modifiedSet.iloc[30:,:].copy()\n",
    "\n",
    "#Prediction\n",
    "reg=Ridge(alpha=.1)\n",
    "#Variables used to make predictions\n",
    "predictors = [\"PRCP\",\"TMAX\",\"TMIN\", \"SNWD\"]\n",
    "\n",
    "result = makePrediction(predictors, modifiedSet, reg)\n",
    "result"
   ]
  },
  {
   "cell_type": "code",
   "execution_count": 10,
   "metadata": {},
   "outputs": [
    {
     "data": {
      "text/plain": [
       "0.08603161382032838"
      ]
     },
     "execution_count": 10,
     "metadata": {},
     "output_type": "execute_result"
    }
   ],
   "source": [
    "import pandas as pd\n",
    "#Load weather dataset\n",
    "#Sets the index to date\n",
    "testWeather = pd.read_csv(\"set1.csv\", index_col=\"DATE\")\n",
    "\n",
    "def prepareSet(testWeather):\n",
    "    import pandas as pd\n",
    "    #Load weather dataset\n",
    "    #Sets the index to date\n",
    "\n",
    "    modifiedSet = testWeather[[\"PRCP\", \"SNWD\", \"TMAX\",\"TMIN\"]].copy()\n",
    "\n",
    "    #Fill in empty values\n",
    "    modifiedSet[\"PRCP\"] = modifiedSet[\"PRCP\"].fillna(0)\n",
    "    modifiedSet[\"SNWD\"] = modifiedSet[\"SNWD\"].fillna(0)\n",
    "    modifiedSet = modifiedSet.fillna(method=\"ffill\")\n",
    "\n",
    "    #Remove the first value, as it can't be filled in\n",
    "    modifiedSet = modifiedSet.iloc[1:,:].copy()\n",
    "\n",
    "    #Convert date string to date type\n",
    "    modifiedSet.index = pd.to_datetime(modifiedSet.index)\n",
    "\n",
    "    #Convert F to C\n",
    "    modifiedSet[\"TMAX\"] = (modifiedSet[\"TMAX\"]-32)* (5/9)\n",
    "\n",
    "    modifiedSet[\"TMIN\"] = (modifiedSet[\"TMIN\"]-32)* (5/9)\n",
    "\n",
    "    #Monthly average\n",
    "    modifiedSet[\"MONTHLY_AVG\"] = modifiedSet[\"TMAX\"].groupby(modifiedSet.index.month).apply(lambda x: x.expanding(1).mean())\n",
    "\n",
    "    #Daily average\n",
    "    modifiedSet[\"DAY_OF_YEAR_AVG\"] = modifiedSet[\"TMAX\"].groupby(modifiedSet.index.day_of_year).apply(lambda x: x.expanding(1).mean())\n",
    "\n",
    "    #MEAN TEMP\n",
    "    modifiedSet[\"TMEAN\"] = ( modifiedSet[\"TMAX\"] + modifiedSet[\"TMIN\"]) /2\n",
    "\n",
    "    return modifiedSet\n",
    "\n",
    "def makePrediction(predictors, modifiedSet, reg):\n",
    "    import pandas as pd\n",
    "    #Split dataset into training set and test set\n",
    "    train = modifiedSet.loc[:\"2020-12-31\"]\n",
    "    test = modifiedSet.loc[\"2021-01-01\":]\n",
    "\n",
    "    #Fit training model to dataset\n",
    "    reg.fit(train[predictors], train[\"TARGET\"])\n",
    "    predictions = reg.predict(test[predictors])\n",
    "\n",
    "    from sklearn.metrics import mean_absolute_error\n",
    "\n",
    "    #Calculates the average error off on the whole dataset\n",
    "    mean_absolute_error(test[\"TARGET\"], predictions)\n",
    "\n",
    "    comparison = pd.concat([test[\"TARGET\"], pd.Series(predictions, index=test.index)], axis = 1)\n",
    "    comparison.columns = [\"ACTUAL\", \"PREDICTION\"]\n",
    "\n",
    "\n",
    "    #return comparison.plot()\n",
    "    return mean_absolute_error(test[\"TARGET\"], predictions)\n",
    "\n",
    "from sklearn.linear_model import Ridge\n",
    "testWeather = pd.read_csv(\"set1.csv\", index_col=\"DATE\")\n",
    "\n",
    "modifiedSet = prepareSet(testWeather)\n",
    "\n",
    "#Set target to TMAX\n",
    "modifiedSet[\"TARGET\"] = modifiedSet.shift(-1)[\"PRCP\"]\n",
    "\n",
    "#Removes the last row as it does not have a target\n",
    "modifiedSet = modifiedSet.iloc[:-1,:].copy()\n",
    "\n",
    "#Removes first 30 rows to remove empty values\n",
    "modifiedSet = modifiedSet.iloc[30:,:].copy()\n",
    "\n",
    "#Prediction\n",
    "reg=Ridge(alpha=.1)\n",
    "#Variables used to make predictions\n",
    "predictors = [\"PRCP\",\"TMAX\",\"TMIN\", \"SNWD\", \"TMEAN\"]\n",
    "\n",
    "result = makePrediction(predictors, modifiedSet, reg)\n",
    "result"
   ]
  },
  {
   "cell_type": "code",
   "execution_count": 13,
   "metadata": {},
   "outputs": [
    {
     "data": {
      "text/plain": [
       "0.08603161381819109"
      ]
     },
     "execution_count": 13,
     "metadata": {},
     "output_type": "execute_result"
    }
   ],
   "source": [
    "import pandas as pd\n",
    "#Load weather dataset\n",
    "#Sets the index to date\n",
    "testWeather = pd.read_csv(\"set1.csv\", index_col=\"DATE\")\n",
    "\n",
    "def prepareSet(testWeather):\n",
    "    import pandas as pd\n",
    "    #Load weather dataset\n",
    "    #Sets the index to date\n",
    "\n",
    "    modifiedSet = testWeather[[\"PRCP\", \"SNWD\", \"TMAX\",\"TMIN\"]].copy()\n",
    "\n",
    "    #Fill in empty values\n",
    "    modifiedSet[\"PRCP\"] = modifiedSet[\"PRCP\"].fillna(0)\n",
    "    modifiedSet[\"SNWD\"] = modifiedSet[\"SNWD\"].fillna(0)\n",
    "    modifiedSet = modifiedSet.fillna(method=\"ffill\")\n",
    "\n",
    "    #Remove the first value, as it can't be filled in\n",
    "    modifiedSet = modifiedSet.iloc[1:,:].copy()\n",
    "\n",
    "    #Convert date string to date type\n",
    "    modifiedSet.index = pd.to_datetime(modifiedSet.index)\n",
    "\n",
    "    #Convert F to C\n",
    "    modifiedSet[\"TMAX\"] = (modifiedSet[\"TMAX\"]-32)* (5/9)\n",
    "\n",
    "    modifiedSet[\"TMIN\"] = (modifiedSet[\"TMIN\"]-32)* (5/9)\n",
    "\n",
    "    #Monthly average\n",
    "    modifiedSet[\"MONTHLY_AVG\"] = modifiedSet[\"TMAX\"].groupby(modifiedSet.index.month).apply(lambda x: x.expanding(1).mean())\n",
    "\n",
    "    #Daily average\n",
    "    modifiedSet[\"DAY_OF_YEAR_AVG\"] = modifiedSet[\"TMAX\"].groupby(modifiedSet.index.day_of_year).apply(lambda x: x.expanding(1).mean())\n",
    "    #MEAN TEMP\n",
    "    modifiedSet[\"TMEAN\"] = ( modifiedSet[\"TMAX\"] + modifiedSet[\"TMIN\"]) /2\n",
    "\n",
    "    return modifiedSet\n",
    "\n",
    "def makePrediction(predictors, modifiedSet, reg):\n",
    "    import pandas as pd\n",
    "    #Split dataset into training set and test set\n",
    "    train = modifiedSet.loc[:\"2020-12-31\"]\n",
    "    test = modifiedSet.loc[\"2021-01-01\":]\n",
    "\n",
    "    #Fit training model to dataset\n",
    "    reg.fit(train[predictors], train[\"TARGET\"])\n",
    "    predictions = reg.predict(test[predictors])\n",
    "\n",
    "    from sklearn.metrics import mean_absolute_error\n",
    "\n",
    "    #Calculates the average error off on the whole dataset\n",
    "    mean_absolute_error(test[\"TARGET\"], predictions)\n",
    "\n",
    "    comparison = pd.concat([test[\"TARGET\"], pd.Series(predictions, index=test.index)], axis = 1)\n",
    "    comparison.columns = [\"ACTUAL\", \"PREDICTION\"]\n",
    "\n",
    "\n",
    "    return mean_absolute_error(test[\"TARGET\"], predictions)\n",
    "\n",
    "\n",
    "from sklearn.linear_model import Ridge\n",
    "testWeather = pd.read_csv(\"set1.csv\", index_col=\"DATE\")\n",
    "\n",
    "modifiedSet = prepareSet(testWeather)\n",
    "\n",
    "#Set target to TMAX\n",
    "modifiedSet[\"TARGET\"] = modifiedSet.shift(-1)[\"PRCP\"]\n",
    "\n",
    "#Removes the last row as it does not have a target\n",
    "modifiedSet = modifiedSet.iloc[:-1,:].copy()\n",
    "\n",
    "#Removes first 30 rows to remove empty values\n",
    "modifiedSet = modifiedSet.iloc[30:,:].copy()\n",
    "\n",
    "#Prediction\n",
    "reg=Ridge(alpha=.1)\n",
    "#Variables used to make predictions\n",
    "predictors = [\"PRCP\",\"TMAX\",\"TMIN\", \"SNWD\"]\n",
    "\n",
    "result = makePrediction(predictors, modifiedSet, reg)\n",
    "result"
   ]
  }
 ],
 "metadata": {
  "kernelspec": {
   "display_name": "Python 3",
   "language": "python",
   "name": "python3"
  },
  "language_info": {
   "codemirror_mode": {
    "name": "ipython",
    "version": 3
   },
   "file_extension": ".py",
   "mimetype": "text/x-python",
   "name": "python",
   "nbconvert_exporter": "python",
   "pygments_lexer": "ipython3",
   "version": "3.7.7"
  },
  "orig_nbformat": 4
 },
 "nbformat": 4,
 "nbformat_minor": 2
}
